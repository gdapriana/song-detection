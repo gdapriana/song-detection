{
 "cells": [
  {
   "metadata": {
    "ExecuteTime": {
     "end_time": "2025-02-04T05:24:41.976842Z",
     "start_time": "2025-02-04T05:24:41.902583Z"
    }
   },
   "cell_type": "code",
   "source": "from fastdtw import fastdtw",
   "id": "60ec31be4836ee80",
   "outputs": [],
   "execution_count": 1
  },
  {
   "metadata": {
    "ExecuteTime": {
     "end_time": "2025-02-04T05:25:23.551428Z",
     "start_time": "2025-02-04T05:25:23.546845Z"
    }
   },
   "cell_type": "code",
   "source": [
    "stri = \"result/matching/train.csv\"\n",
    "print(stri.split(\"/\")[-1])"
   ],
   "id": "e3b737ccf9038235",
   "outputs": [
    {
     "name": "stdout",
     "output_type": "stream",
     "text": [
      "train.csv\n"
     ]
    }
   ],
   "execution_count": 3
  }
 ],
 "metadata": {
  "kernelspec": {
   "display_name": "Python 3",
   "language": "python",
   "name": "python3"
  },
  "language_info": {
   "codemirror_mode": {
    "name": "ipython",
    "version": 2
   },
   "file_extension": ".py",
   "mimetype": "text/x-python",
   "name": "python",
   "nbconvert_exporter": "python",
   "pygments_lexer": "ipython2",
   "version": "2.7.6"
  }
 },
 "nbformat": 4,
 "nbformat_minor": 5
}
