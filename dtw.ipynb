{
 "cells": [
  {
   "cell_type": "code",
   "id": "initial_id",
   "metadata": {
    "collapsed": true,
    "ExecuteTime": {
     "end_time": "2025-02-04T04:57:59.206106Z",
     "start_time": "2025-02-04T04:57:58.960399Z"
    }
   },
   "source": [
    "import numpy as np\n",
    "from resources.dtw import dtw___\n",
    "import pandas as pd\n",
    "import time"
   ],
   "outputs": [],
   "execution_count": 1
  },
  {
   "metadata": {},
   "cell_type": "markdown",
   "source": "# DYNAMIC TIME WARPING",
   "id": "1ef4d02211b192d9"
  },
  {
   "metadata": {},
   "cell_type": "markdown",
   "source": [
    "Dynamic Time Warping (DTW) is a method used to measure the similarity between two time series that can differ in time or speed.\n",
    "\n",
    "Below is a manual explanation of how DTW works, step by step:\n",
    "\n",
    "> #### **PROBLEM SETUP**\n",
    "> * We have two sequences:\n",
    ">   - Sequence X = $[x_1, x_2, ..., x_n]$\n",
    ">   - Sequence Y = $[y_1, y_2, ..., y_n]$\n",
    "> * The goal is to find the optimal alignment between $X$ and $Y$ such that the cumulative distance between them is minimized.\n",
    "\n",
    "> #### **DISTANCE MATRIX**\n",
    "> * Construct a distance matrix $D$ of size $n \\times m$, where each cell $D(i, j)$ represents the distance between $x_i$ dan $y_j$\n",
    "> * The distance can be Euclidean Distance, Manhattan Distance, or Any other suitable metric:\n",
    "$$ D(i, j)=|x_i-y_i| $$\n",
    "\n",
    "> #### **ACCUMULATED COST MATRIX**\n",
    "> * Construct an accumulated cost matrix $C$ of size $n \\times m$ where each cell $C(i, j)$ represents the minimum cumulative cost to reach $(i, j)$ from $(1, 1)$\n",
    "> * Initialize the first cell:\n",
    "> $$ C(1, 1) = D(1, 1) $$\n",
    "> * Fill the first row and first column:\n",
    "> $$ C(i, 1) = C(i-1, 1) + D(i, 1) \\:\\:\\:\\:for\\:i=2,...,n $$\n",
    "> $$C(1, j) = C(1, j-1) + D(1, j) \\:\\:\\:\\:for\\:i=2,...,m $$\n",
    "> * For the rest of the cells, compute:\n",
    "> $$ C(i,j)=D(i,j) + \\min(C(i-1, j), C(i,j-1), C(i-1,j-1)) $$\n",
    "\n",
    "> #### **WARPING PATH**\n",
    "> * The warping path $W$ is sequence of cells $(i, j)$ that defines the optimal alignment between $X$ and $Y$.\n",
    "> * Start from $(n,m)$ and backtrack to $(1,1)$ by choosing the cell with the minimum cumulative cost at each step.\n",
    "\n",
    "> #### **DTW DISTANCE**\n",
    "> * The DTW distance is the value in the bottom-right corner og rhe accumulated cost matrix:\n",
    "> $$ DTW(X,Y)=C(n,m) $$\n",
    "> * This represents the minimum cumulative distance between the two sequences.\n"
   ],
   "id": "690f99cc20232b77"
  },
  {
   "metadata": {},
   "cell_type": "markdown",
   "source": [
    "### `func dtw_distance`\n",
    "> **parameter**\n",
    "> * `X`: X signal (can be complex)\n",
    "> * `Y`: Y signal (can be complex)\n",
    "> * 'dist': distance calculation method, default: euclidean\n",
    "\n",
    "> **output**\n",
    "> `dist`: This represents the minimum cumulative distance between the two sequences.\n"
   ],
   "id": "3b27a7d154bd46f1"
  },
  {
   "metadata": {},
   "cell_type": "markdown",
   "source": "## MATCHING WITH EXTRACTED FEATURES",
   "id": "b621ce9a482a7112"
  },
  {
   "metadata": {},
   "cell_type": "markdown",
   "source": "First, prepare the schema for the testing",
   "id": "ebfa37cffaca4e4d"
  },
  {
   "metadata": {
    "ExecuteTime": {
     "end_time": "2025-02-04T04:57:59.211308Z",
     "start_time": "2025-02-04T04:57:59.209321Z"
    }
   },
   "cell_type": "code",
   "source": [
    "# train_frame\n",
    "train_05, train_10, train_15 = [], [], []\n",
    "\n",
    "# test_type(normal/noise)_duration(%)_frame\n",
    "test_normal_50_05,\\\n",
    "  test_normal_50_10,\\\n",
    "  test_normal_50_15 = [], [], []\n",
    "\n",
    "test_normal_100_05, \\\n",
    "  test_normal_100_10, \\\n",
    "  test_normal_100_15 = [], [], []\n",
    "\n",
    "test_noise_50_05, \\\n",
    "  test_noise_50_10, \\\n",
    "  test_noise_50_15 = [], [], []\n",
    "\n",
    "test_noise_100_05, \\\n",
    "  test_noise_100_10, \\\n",
    "  test_noise_100_15 = [], [], []"
   ],
   "id": "3c26b04dc00e95bf",
   "outputs": [],
   "execution_count": 2
  },
  {
   "metadata": {
    "ExecuteTime": {
     "end_time": "2025-02-04T04:57:59.308151Z",
     "start_time": "2025-02-04T04:57:59.305262Z"
    }
   },
   "cell_type": "code",
   "source": [
    "def apply_schema(schema, csv_path, npy_path):\n",
    "  csv = pd.read_csv(csv_path)\n",
    "  for i, row in csv.iterrows():\n",
    "    schema.append({\n",
    "      'title': row['title'],\n",
    "      'artist': row['artist'],\n",
    "      'npy_path': f\"{npy_path}/{row['title']}.npy\",\n",
    "    })"
   ],
   "id": "262edb40be04e89e",
   "outputs": [],
   "execution_count": 3
  },
  {
   "metadata": {
    "ExecuteTime": {
     "end_time": "2025-02-04T04:57:59.338894Z",
     "start_time": "2025-02-04T04:57:59.314469Z"
    }
   },
   "cell_type": "code",
   "source": [
    "# schema for train dataset\n",
    "apply_schema(train_05, csv_path=\"csv/train.csv\", npy_path=\"npy/train/05\")\n",
    "apply_schema(train_10, csv_path=\"csv/train.csv\", npy_path=\"npy/train/10\")\n",
    "apply_schema(train_15, csv_path=\"csv/train.csv\", npy_path=\"npy/train/15\")\n",
    "\n",
    "# schema for test dataset\n",
    "apply_schema(test_normal_50_05, csv_path=\"csv/test_normal_50.csv\", npy_path=\"npy/test/normal/50/05\")\n",
    "apply_schema(test_normal_50_10, csv_path=\"csv/test_normal_50.csv\", npy_path=\"npy/test/normal/50/10\")\n",
    "apply_schema(test_normal_50_15, csv_path=\"csv/test_normal_50.csv\", npy_path=\"npy/test/normal/50/15\")\n",
    "apply_schema(test_normal_100_05, csv_path=\"csv/test_normal_100.csv\", npy_path=\"npy/test/normal/100/05\")\n",
    "apply_schema(test_normal_100_10, csv_path=\"csv/test_normal_100.csv\", npy_path=\"npy/test/normal/100/10\")\n",
    "apply_schema(test_normal_100_15, csv_path=\"csv/test_normal_100.csv\", npy_path=\"npy/test/normal/100/15\")\n",
    "\n",
    "# apply_schema(test_noise_50_05, csv_path=\"csv/test_noise_50.csv\", npy_path=\"npy/test/noise/50/05\")\n",
    "# apply_schema(test_noise_50_10, csv_path=\"csv/test_noise_50.csv\", npy_path=\"npy/test/noise/50/10\")\n",
    "# apply_schema(test_noise_50_15, csv_path=\"csv/test_noise_50.csv\", npy_path=\"npy/test/noise/50/15\")\n",
    "# apply_schema(test_noise_100_05, csv_path=\"csv/test_noise_100.csv\", npy_path=\"npy/test/noise/100/05\")\n",
    "# apply_schema(test_noise_100_10, csv_path=\"csv/test_noise_100.csv\", npy_path=\"npy/test/noise/100/10\")\n",
    "# apply_schema(test_noise_100_15, csv_path=\"csv/test_noise_100.csv\", npy_path=\"npy/test/noise/100/15\")"
   ],
   "id": "5dd8cf6e9bbea7c5",
   "outputs": [],
   "execution_count": 4
  },
  {
   "metadata": {
    "ExecuteTime": {
     "end_time": "2025-02-04T04:57:59.353333Z",
     "start_time": "2025-02-04T04:57:59.346292Z"
    }
   },
   "cell_type": "code",
   "source": "pd.DataFrame(train_05).head(5)",
   "id": "19ceeecd999b8811",
   "outputs": [
    {
     "data": {
      "text/plain": [
       "                  title                    artist  \\\n",
       "0                    4U                    Convex   \n",
       "1                    23              Diamond Eyes   \n",
       "2  Watch The World Burn  Paul Flint, Chris Linton   \n",
       "3                   Ark    Ship Wrek & Zookeepers   \n",
       "4                 Arrow                 Jim Yosef   \n",
       "\n",
       "                                npy_path  \n",
       "0                    npy/train/05/4U.npy  \n",
       "1                    npy/train/05/23.npy  \n",
       "2  npy/train/05/Watch The World Burn.npy  \n",
       "3                   npy/train/05/Ark.npy  \n",
       "4                 npy/train/05/Arrow.npy  "
      ],
      "text/html": [
       "<div>\n",
       "<style scoped>\n",
       "    .dataframe tbody tr th:only-of-type {\n",
       "        vertical-align: middle;\n",
       "    }\n",
       "\n",
       "    .dataframe tbody tr th {\n",
       "        vertical-align: top;\n",
       "    }\n",
       "\n",
       "    .dataframe thead th {\n",
       "        text-align: right;\n",
       "    }\n",
       "</style>\n",
       "<table border=\"1\" class=\"dataframe\">\n",
       "  <thead>\n",
       "    <tr style=\"text-align: right;\">\n",
       "      <th></th>\n",
       "      <th>title</th>\n",
       "      <th>artist</th>\n",
       "      <th>npy_path</th>\n",
       "    </tr>\n",
       "  </thead>\n",
       "  <tbody>\n",
       "    <tr>\n",
       "      <th>0</th>\n",
       "      <td>4U</td>\n",
       "      <td>Convex</td>\n",
       "      <td>npy/train/05/4U.npy</td>\n",
       "    </tr>\n",
       "    <tr>\n",
       "      <th>1</th>\n",
       "      <td>23</td>\n",
       "      <td>Diamond Eyes</td>\n",
       "      <td>npy/train/05/23.npy</td>\n",
       "    </tr>\n",
       "    <tr>\n",
       "      <th>2</th>\n",
       "      <td>Watch The World Burn</td>\n",
       "      <td>Paul Flint, Chris Linton</td>\n",
       "      <td>npy/train/05/Watch The World Burn.npy</td>\n",
       "    </tr>\n",
       "    <tr>\n",
       "      <th>3</th>\n",
       "      <td>Ark</td>\n",
       "      <td>Ship Wrek &amp; Zookeepers</td>\n",
       "      <td>npy/train/05/Ark.npy</td>\n",
       "    </tr>\n",
       "    <tr>\n",
       "      <th>4</th>\n",
       "      <td>Arrow</td>\n",
       "      <td>Jim Yosef</td>\n",
       "      <td>npy/train/05/Arrow.npy</td>\n",
       "    </tr>\n",
       "  </tbody>\n",
       "</table>\n",
       "</div>"
      ]
     },
     "execution_count": 5,
     "metadata": {},
     "output_type": "execute_result"
    }
   ],
   "execution_count": 5
  },
  {
   "metadata": {},
   "cell_type": "markdown",
   "source": "test the train with test, and the result is in csv saved in /result/",
   "id": "49b75d3a6814098a"
  },
  {
   "metadata": {
    "ExecuteTime": {
     "end_time": "2025-02-04T04:57:59.387395Z",
     "start_time": "2025-02-04T04:57:59.384130Z"
    }
   },
   "cell_type": "code",
   "source": [
    "def apply_testing(train, test, result_name):\n",
    "  print(f\"test {result_name}\")\n",
    "  results = []\n",
    "  for te in test:\n",
    "    distances = []\n",
    "    start_exec = time.time()\n",
    "    for tr in train:\n",
    "      x = np.load(te['npy_path'])\n",
    "      y = np.load(tr['npy_path'])\n",
    "      dist, _ = dtw___(x, y)\n",
    "      distances.append({\n",
    "        'title': tr['title'],\n",
    "        'artist': tr['artist'],\n",
    "        'distance': round(dist, 2),\n",
    "      })\n",
    "    end_exec = round((time.time() - start_exec), 2)\n",
    "    min_distance = min(distances, key=lambda x: x['distance'])\n",
    "    min_distance['exec_time'] = end_exec\n",
    "    results.append({\n",
    "      'title': te['title'],\n",
    "      'predicted_title': min_distance['title'],\n",
    "      'predicted_artist': min_distance['artist'],\n",
    "      'distance': min_distance['distance'],\n",
    "      'exec_time': min_distance['exec_time'],\n",
    "    })\n",
    "  pd.DataFrame(results).to_csv(f\"result/matching/{result_name}.csv\", index=False)"
   ],
   "id": "66fd75e8da17873b",
   "outputs": [],
   "execution_count": 6
  },
  {
   "metadata": {
    "ExecuteTime": {
     "end_time": "2025-02-04T05:12:24.844368Z",
     "start_time": "2025-02-04T04:57:59.420567Z"
    }
   },
   "cell_type": "code",
   "source": [
    "apply_testing(train=train_05, test=test_normal_50_05, result_name=\"train_05__test_normal_50_05\")\n",
    "apply_testing(train=train_10, test=test_normal_50_10, result_name=\"train_10__test_normal_50_10\")\n",
    "apply_testing(train=train_15, test=test_normal_50_15, result_name=\"train_15__test_normal_50_15\")\n",
    "apply_testing(train=train_05, test=test_normal_100_05, result_name=\"train_05__test_normal_100_05\")\n",
    "apply_testing(train=train_10, test=test_normal_100_10, result_name=\"train_10__test_normal_100_10\")\n",
    "apply_testing(train=train_15, test=test_normal_100_15, result_name=\"train_15__test_normal_100_15\")\n",
    "\n",
    "# apply_testing(train=train_05, test=test_noise_50_05, result_name=\"train_05__test_noise_50_05\")\n",
    "# apply_testing(train=train_10, test=test_noise_50_10, result_name=\"train_10__test_noise_50_10\")\n",
    "# apply_testing(train=train_15, test=test_noise_50_15, result_name=\"train_15__test_noise_50_15\")\n",
    "# apply_testing(train=train_05, test=test_noise_100_05, result_name=\"train_05__test_noise_100_05\")\n",
    "# apply_testing(train=train_10, test=test_noise_100_10, result_name=\"train_10__test_noise_100_10\")\n",
    "# apply_testing(train=train_15, test=test_noise_100_15, result_name=\"train_15__test_noise_100_15\")"
   ],
   "id": "b4cae281495e1bbb",
   "outputs": [
    {
     "name": "stdout",
     "output_type": "stream",
     "text": [
      "test train_05__test_normal_50_05\n",
      "test train_10__test_normal_50_10\n",
      "test train_15__test_normal_50_15\n",
      "test train_05__test_normal_100_05\n",
      "test train_10__test_normal_100_10\n",
      "test train_15__test_normal_100_15\n"
     ]
    }
   ],
   "execution_count": 7
  }
 ],
 "metadata": {
  "kernelspec": {
   "display_name": "Python 3",
   "language": "python",
   "name": "python3"
  },
  "language_info": {
   "codemirror_mode": {
    "name": "ipython",
    "version": 2
   },
   "file_extension": ".py",
   "mimetype": "text/x-python",
   "name": "python",
   "nbconvert_exporter": "python",
   "pygments_lexer": "ipython2",
   "version": "2.7.6"
  }
 },
 "nbformat": 4,
 "nbformat_minor": 5
}
