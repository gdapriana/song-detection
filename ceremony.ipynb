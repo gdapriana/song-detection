{
 "cells": [
  {
   "cell_type": "code",
   "id": "58c18dad-c6d3-48d8-a911-190db3b03185",
   "metadata": {
    "ExecuteTime": {
     "end_time": "2025-01-30T15:14:07.122051Z",
     "start_time": "2025-01-30T15:14:06.723126Z"
    }
   },
   "source": [
    "import os\n",
    "import urllib.request as req\n",
    "import pandas as pd"
   ],
   "outputs": [],
   "execution_count": 1
  },
  {
   "cell_type": "markdown",
   "id": "91f0ee55-acc7-4c2f-8c71-7c223ecab168",
   "metadata": {},
   "source": [
    "## Dataset Preparation"
   ]
  },
  {
   "cell_type": "markdown",
   "id": "ce4c6649-fc0f-4561-92c6-9a2485f56cbd",
   "metadata": {},
   "source": [
    "Dataset got from `NoCopyRight Sound` with 150 audio with detail below:\n",
    "\n",
    "- Sample Rate: 44.1 Khz (44100 sample)\n",
    "- Channel: 2 (Stereo)\n",
    "- Precission: 16bit\n",
    "- Bitrate: 320k"
   ]
  },
  {
   "cell_type": "markdown",
   "id": "cdd355f4-b57e-4fc8-aacd-30d9f5ef4541",
   "metadata": {},
   "source": "### Folder Structure"
  },
  {
   "cell_type": "markdown",
   "id": "a32a7edd-3ffd-4989-bdd4-3fd6c390d8b8",
   "metadata": {},
   "source": [
    "```\n",
    "├─ mfcc.ipynb\n",
    "├─ dtw.ipynb\n",
    "├─ evaluation.ipynb\n",
    "├─ ceremony.ipynb\n",
    "├─ csv\n",
    "│  ├─ train.csv\n",
    "│  └─ test.csv\n",
    "├─ audio             # store all dataset (.mp3)\n",
    "│  ├─ train          # store all train dataset (.mp3)\n",
    "│  └─ test           # store all test dataset (.mp3)\n",
    "│     ├─ normal      # no noise\n",
    "│     │  ├─ 100      # no noise and 100% duration\n",
    "│     │  └─ 50       # no noise and 50% duration\n",
    "│     └─ noise       # with noise\n",
    "│        ├─ 100      # with noise and 100% duration\n",
    "│        └─ 50       # with noise and 50% duration\n",
    "├─ npy\n",
    "│  ├─ train          # store all train features (.npy)\n",
    "│  │  ├─ 05          # store all train features (0.5s frame) (.npy)\n",
    "│  │  ├─ 10\n",
    "│  │  └─ 15\n",
    "│  └─ test           # store all test features (.npy)\n",
    "│     ├─ normal      # store all test features (no noise) (.npy)\n",
    "│     │  ├─ 100      # store all test features (no noise, 100% duration) (.npy)     \n",
    "│     │  │  ├─ 05    # store all test features (no noise, 100% duration, 0.5s frame) (.npy)\n",
    "│     │  │  ├─ 10\n",
    "│     │  │  └─ 15\n",
    "│     │  └─ 50\n",
    "│     │     ├─ 05\n",
    "│     │     ├─ 10\n",
    "│     │     └─ 15\n",
    "│     └─ noise\n",
    "│        ├─ 100\n",
    "│        │  ├─ 05\n",
    "│        │  ├─ 10\n",
    "│        │  └─ 15\n",
    "│        └─ 50\n",
    "│           ├─ 05\n",
    "│           ├─ 10\n",
    "│           └─ 15\n",
    "└ results            # evaluation result\n",
    "```"
   ]
  },
  {
   "metadata": {},
   "cell_type": "markdown",
   "source": "### Create All Folder",
   "id": "8d53b36d2da70175"
  },
  {
   "cell_type": "code",
   "id": "58501842-defb-42e5-a5fe-d2fb57bfd645",
   "metadata": {
    "ExecuteTime": {
     "end_time": "2025-01-30T15:14:11.931591Z",
     "start_time": "2025-01-30T15:14:11.925936Z"
    }
   },
   "source": [
    "def create_folder(path):\n",
    "  if not os.path.exists(path):\n",
    "    os.makedirs(path)"
   ],
   "outputs": [],
   "execution_count": 2
  },
  {
   "metadata": {
    "ExecuteTime": {
     "end_time": "2025-01-30T15:14:14.537314Z",
     "start_time": "2025-01-30T15:14:14.527654Z"
    }
   },
   "cell_type": "code",
   "source": [
    "# create folder for train | test dataset (store mp3)\n",
    "create_folder(\"audio\")\n",
    "create_folder(\"audio/train\")\n",
    "create_folder(\"audio/test\")\n",
    "create_folder(\"audio/test/normal\")\n",
    "create_folder(\"audio/test/normal/50\")\n",
    "create_folder(\"audio/test/normal/100\")\n",
    "create_folder(\"audio/test/noise\")\n",
    "create_folder(\"audio/test/noise/50\")\n",
    "create_folder(\"audio/test/noise/100\")\n",
    "\n",
    "# create folder for npy (mfcc's result)\n",
    "create_folder(\"npy\")\n",
    "create_folder(\"npy/train\")\n",
    "create_folder(\"npy/train/05\")\n",
    "create_folder(\"npy/train/10\")\n",
    "create_folder(\"npy/train/15\")\n",
    "create_folder(\"npy/test\")\n",
    "create_folder(\"npy/test/normal\")\n",
    "create_folder(\"npy/test/normal/50\")\n",
    "create_folder(\"npy/test/normal/50/05\")\n",
    "create_folder(\"npy/test/normal/50/10\")\n",
    "create_folder(\"npy/test/normal/50/15\")\n",
    "create_folder(\"npy/test/normal/100\")\n",
    "create_folder(\"npy/test/normal/100/05\")\n",
    "create_folder(\"npy/test/normal/100/10\")\n",
    "create_folder(\"npy/test/normal/100/15\")\n",
    "create_folder(\"npy/test/noise\")\n",
    "create_folder(\"npy/test/noise/50\")\n",
    "create_folder(\"npy/test/noise/50/05\")\n",
    "create_folder(\"npy/test/noise/50/10\")\n",
    "create_folder(\"npy/test/noise/50/15\")\n",
    "create_folder(\"npy/test/noise/100\")\n",
    "create_folder(\"npy/test/noise/100/05\")\n",
    "create_folder(\"npy/test/noise/100/10\")\n",
    "create_folder(\"npy/test/noise/100/15\")\n",
    "\n",
    "# create folder for csv (to download mp3)\n",
    "create_folder(\"csv\")\n",
    "\n",
    "# create folder for evaluation result\n",
    "create_folder(\"result\")\n",
    "\n",
    "# create folder for ui (streamlit) resources\n",
    "create_folder(\"resources\")"
   ],
   "id": "9a212633e47e2539",
   "outputs": [],
   "execution_count": 3
  },
  {
   "metadata": {},
   "cell_type": "markdown",
   "source": "### Download CSV",
   "id": "cece7ef3d1d33ffd"
  },
  {
   "metadata": {
    "ExecuteTime": {
     "end_time": "2025-01-30T15:15:34.022232Z",
     "start_time": "2025-01-30T15:15:34.014629Z"
    }
   },
   "cell_type": "code",
   "source": [
    "def download_csv(link, path):\n",
    "  req.urlretrieve(link, path)"
   ],
   "id": "1fec736a751765a4",
   "outputs": [],
   "execution_count": 4
  },
  {
   "metadata": {
    "ExecuteTime": {
     "end_time": "2025-01-30T15:15:37.023167Z",
     "start_time": "2025-01-30T15:15:36.987053Z"
    }
   },
   "cell_type": "code",
   "source": [
    "all_csv = [\n",
    "  {\"name\": \"train\", \"audio_path\": \"audio/train\", \"link\": \"https://docs.google.com/spreadsheets/d/1-JBYn8MiLIcnJwqT2j33H7iEbVIgCUDNdG68yBDW5zc/export?format=csv&id=1-JBYn8MiLIcnJwqT2j33H7iEbVIgCUDNdG68yBDW5zc&gid=1280949540\"},\n",
    "  {\"name\": \"test_normal_100\", \"audio_path\": \"audio/test/normal/100\", \"link\": \"https://docs.google.com/spreadsheets/d/1-JBYn8MiLIcnJwqT2j33H7iEbVIgCUDNdG68yBDW5zc/export?format=csv&id=1-JBYn8MiLIcnJwqT2j33H7iEbVIgCUDNdG68yBDW5zc&gid=328562984\"},\n",
    "  {\"name\": \"test_normal_50\", \"audio_path\": \"audio/test/normal/50\", \"link\": \"https://docs.google.com/spreadsheets/d/1-JBYn8MiLIcnJwqT2j33H7iEbVIgCUDNdG68yBDW5zc/export?format=csv&id=1-JBYn8MiLIcnJwqT2j33H7iEbVIgCUDNdG68yBDW5zc&gid=1328854310\"},\n",
    "  {\"name\": \"test_noise_100\", \"audio_path\": \"audio/test/noise/100\", \"link\": None},\n",
    "  {\"name\": \"test_noise_50\", \"audio_path\": \"audio/test/noise/50\", \"link\": None},\n",
    "]\n",
    "\n",
    "pd.DataFrame(all_csv)"
   ],
   "id": "dc176beb2892db5c",
   "outputs": [
    {
     "data": {
      "text/plain": [
       "              name             audio_path  \\\n",
       "0            train            audio/train   \n",
       "1  test_normal_100  audio/test/normal/100   \n",
       "2   test_normal_50   audio/test/normal/50   \n",
       "3   test_noise_100   audio/test/noise/100   \n",
       "4    test_noise_50    audio/test/noise/50   \n",
       "\n",
       "                                                link  \n",
       "0  https://docs.google.com/spreadsheets/d/1-JBYn8...  \n",
       "1  https://docs.google.com/spreadsheets/d/1-JBYn8...  \n",
       "2  https://docs.google.com/spreadsheets/d/1-JBYn8...  \n",
       "3                                               None  \n",
       "4                                               None  "
      ],
      "text/html": [
       "<div>\n",
       "<style scoped>\n",
       "    .dataframe tbody tr th:only-of-type {\n",
       "        vertical-align: middle;\n",
       "    }\n",
       "\n",
       "    .dataframe tbody tr th {\n",
       "        vertical-align: top;\n",
       "    }\n",
       "\n",
       "    .dataframe thead th {\n",
       "        text-align: right;\n",
       "    }\n",
       "</style>\n",
       "<table border=\"1\" class=\"dataframe\">\n",
       "  <thead>\n",
       "    <tr style=\"text-align: right;\">\n",
       "      <th></th>\n",
       "      <th>name</th>\n",
       "      <th>audio_path</th>\n",
       "      <th>link</th>\n",
       "    </tr>\n",
       "  </thead>\n",
       "  <tbody>\n",
       "    <tr>\n",
       "      <th>0</th>\n",
       "      <td>train</td>\n",
       "      <td>audio/train</td>\n",
       "      <td>https://docs.google.com/spreadsheets/d/1-JBYn8...</td>\n",
       "    </tr>\n",
       "    <tr>\n",
       "      <th>1</th>\n",
       "      <td>test_normal_100</td>\n",
       "      <td>audio/test/normal/100</td>\n",
       "      <td>https://docs.google.com/spreadsheets/d/1-JBYn8...</td>\n",
       "    </tr>\n",
       "    <tr>\n",
       "      <th>2</th>\n",
       "      <td>test_normal_50</td>\n",
       "      <td>audio/test/normal/50</td>\n",
       "      <td>https://docs.google.com/spreadsheets/d/1-JBYn8...</td>\n",
       "    </tr>\n",
       "    <tr>\n",
       "      <th>3</th>\n",
       "      <td>test_noise_100</td>\n",
       "      <td>audio/test/noise/100</td>\n",
       "      <td>None</td>\n",
       "    </tr>\n",
       "    <tr>\n",
       "      <th>4</th>\n",
       "      <td>test_noise_50</td>\n",
       "      <td>audio/test/noise/50</td>\n",
       "      <td>None</td>\n",
       "    </tr>\n",
       "  </tbody>\n",
       "</table>\n",
       "</div>"
      ]
     },
     "execution_count": 5,
     "metadata": {},
     "output_type": "execute_result"
    }
   ],
   "execution_count": 5
  },
  {
   "metadata": {
    "ExecuteTime": {
     "end_time": "2025-01-30T15:15:48.526961Z",
     "start_time": "2025-01-30T15:15:45.757147Z"
    }
   },
   "cell_type": "code",
   "source": [
    "for csv in all_csv:\n",
    "  if csv[\"link\"] is not None:\n",
    "    print(f\"Downloading {csv['name']}...\")\n",
    "    download_csv(csv[\"link\"], f\"csv/{csv['name']}.csv\")"
   ],
   "id": "61a2a007-864c-4ac5-84e7-7b16c444ba0b",
   "outputs": [
    {
     "name": "stdout",
     "output_type": "stream",
     "text": [
      "Downloading train...\n",
      "Downloading test_normal_100...\n",
      "Downloading test_normal_50...\n"
     ]
    }
   ],
   "execution_count": 6
  },
  {
   "metadata": {},
   "cell_type": "markdown",
   "source": "### Download Audio (MP3)",
   "id": "33274edf21030fd2"
  },
  {
   "metadata": {
    "ExecuteTime": {
     "end_time": "2025-01-30T15:15:55.395022Z",
     "start_time": "2025-01-30T15:15:55.387916Z"
    }
   },
   "cell_type": "code",
   "source": [
    "for csv in all_csv:\n",
    "  if csv[\"link\"] is not None:\n",
    "    if len(os.listdir(csv['audio_path'])) == 0:\n",
    "      print(f\"downloading audio in {csv['audio_path']}...\")\n",
    "      dataset = pd.read_csv(f\"csv/{csv['name']}.csv\")\n",
    "      for i, row in dataset.iterrows():\n",
    "        print(f\"\\tDownloading {row['title']}.mp3...\")\n",
    "        req.urlretrieve(row[\"link\"], f\"{csv['audio_path']}/{row['title']}.mp3\")\n",
    "    else:\n",
    "      print(f\"all song in {csv['audio_path']} downloaded\")"
   ],
   "id": "72931d399fd41a6d",
   "outputs": [
    {
     "name": "stdout",
     "output_type": "stream",
     "text": [
      "all song in audio/train downloaded\n",
      "all song in audio/test/normal/100 downloaded\n",
      "all song in audio/test/normal/50 downloaded\n"
     ]
    }
   ],
   "execution_count": 7
  }
 ],
 "metadata": {
  "kernelspec": {
   "display_name": "Python 3 (ipykernel)",
   "language": "python",
   "name": "python3"
  },
  "language_info": {
   "codemirror_mode": {
    "name": "ipython",
    "version": 3
   },
   "file_extension": ".py",
   "mimetype": "text/x-python",
   "name": "python",
   "nbconvert_exporter": "python",
   "pygments_lexer": "ipython3",
   "version": "3.13.1"
  }
 },
 "nbformat": 4,
 "nbformat_minor": 5
}
