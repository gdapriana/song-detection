{
 "cells": [
  {
   "cell_type": "code",
   "id": "initial_id",
   "metadata": {
    "collapsed": true,
    "ExecuteTime": {
     "end_time": "2025-02-04T05:36:00.673624Z",
     "start_time": "2025-02-04T05:36:00.215690Z"
    }
   },
   "source": [
    "import pandas as pd\n",
    "import os"
   ],
   "outputs": [],
   "execution_count": 2
  },
  {
   "metadata": {
    "ExecuteTime": {
     "end_time": "2025-02-04T05:46:29.516790Z",
     "start_time": "2025-02-04T05:46:29.508593Z"
    }
   },
   "cell_type": "code",
   "source": [
    "def evaluation__(all_result):\n",
    "  results = []\n",
    "  for result in all_result:\n",
    "    csv = pd.read_csv(f\"result/matching/{result}\")\n",
    "    tp = 0\n",
    "    fn = 0\n",
    "    exec_time = []\n",
    "    for _, row in csv.iterrows():\n",
    "      if row['title'] == row['predicted_title']: tp += 1\n",
    "      else: fn += 1\n",
    "      exec_time.append(row['exec_time'])\n",
    "    \n",
    "    accuracy = tp / (tp + fn) * 100\n",
    "    exec_average = sum(exec_time) / len(exec_time)\n",
    "    test_name = result.split('.')[0]\n",
    "    results.append({\n",
    "      'test_name': test_name,\n",
    "      'accuracy (%)': round(accuracy, 2),\n",
    "      'execution_average (s)': round(exec_average, 2),\n",
    "    })\n",
    "  pd.DataFrame(results).to_csv(\"result/evaluation/evaluation.csv\", index=False)\n",
    "  print(\"Finished!\")\n",
    "      "
   ],
   "id": "997ff22405534b7b",
   "outputs": [],
   "execution_count": 20
  },
  {
   "metadata": {
    "ExecuteTime": {
     "end_time": "2025-02-04T05:46:31.116339Z",
     "start_time": "2025-02-04T05:46:31.097181Z"
    }
   },
   "cell_type": "code",
   "source": [
    "all_test_csv = [f for f in os.listdir(\"result/matching\") if f.endswith(\".csv\")]\n",
    "evaluation__(all_result=all_test_csv)"
   ],
   "id": "dc226862c2d90d4f",
   "outputs": [
    {
     "name": "stdout",
     "output_type": "stream",
     "text": [
      "Finished!\n"
     ]
    }
   ],
   "execution_count": 21
  },
  {
   "metadata": {
    "ExecuteTime": {
     "end_time": "2025-02-04T05:47:09.404968Z",
     "start_time": "2025-02-04T05:47:09.389330Z"
    }
   },
   "cell_type": "code",
   "source": [
    "evaluation_result = pd.read_csv(\"result/evaluation/evaluation.csv\")\n",
    "evaluation_result.sort_values(by='accuracy (%)', ascending=False)"
   ],
   "id": "a987489c98c755fb",
   "outputs": [
    {
     "data": {
      "text/plain": [
       "                      test_name  accuracy (%)  execution_average (s)\n",
       "0  train_05__test_normal_100_05        100.00                   8.98\n",
       "2  train_15__test_normal_100_15        100.00                   2.80\n",
       "5  train_10__test_normal_100_10        100.00                   4.29\n",
       "1   train_05__test_normal_50_05         80.00                   7.13\n",
       "4   train_15__test_normal_50_15         76.67                   2.22\n",
       "3   train_10__test_normal_50_10         73.33                   3.43"
      ],
      "text/html": [
       "<div>\n",
       "<style scoped>\n",
       "    .dataframe tbody tr th:only-of-type {\n",
       "        vertical-align: middle;\n",
       "    }\n",
       "\n",
       "    .dataframe tbody tr th {\n",
       "        vertical-align: top;\n",
       "    }\n",
       "\n",
       "    .dataframe thead th {\n",
       "        text-align: right;\n",
       "    }\n",
       "</style>\n",
       "<table border=\"1\" class=\"dataframe\">\n",
       "  <thead>\n",
       "    <tr style=\"text-align: right;\">\n",
       "      <th></th>\n",
       "      <th>test_name</th>\n",
       "      <th>accuracy (%)</th>\n",
       "      <th>execution_average (s)</th>\n",
       "    </tr>\n",
       "  </thead>\n",
       "  <tbody>\n",
       "    <tr>\n",
       "      <th>0</th>\n",
       "      <td>train_05__test_normal_100_05</td>\n",
       "      <td>100.00</td>\n",
       "      <td>8.98</td>\n",
       "    </tr>\n",
       "    <tr>\n",
       "      <th>2</th>\n",
       "      <td>train_15__test_normal_100_15</td>\n",
       "      <td>100.00</td>\n",
       "      <td>2.80</td>\n",
       "    </tr>\n",
       "    <tr>\n",
       "      <th>5</th>\n",
       "      <td>train_10__test_normal_100_10</td>\n",
       "      <td>100.00</td>\n",
       "      <td>4.29</td>\n",
       "    </tr>\n",
       "    <tr>\n",
       "      <th>1</th>\n",
       "      <td>train_05__test_normal_50_05</td>\n",
       "      <td>80.00</td>\n",
       "      <td>7.13</td>\n",
       "    </tr>\n",
       "    <tr>\n",
       "      <th>4</th>\n",
       "      <td>train_15__test_normal_50_15</td>\n",
       "      <td>76.67</td>\n",
       "      <td>2.22</td>\n",
       "    </tr>\n",
       "    <tr>\n",
       "      <th>3</th>\n",
       "      <td>train_10__test_normal_50_10</td>\n",
       "      <td>73.33</td>\n",
       "      <td>3.43</td>\n",
       "    </tr>\n",
       "  </tbody>\n",
       "</table>\n",
       "</div>"
      ]
     },
     "execution_count": 23,
     "metadata": {},
     "output_type": "execute_result"
    }
   ],
   "execution_count": 23
  }
 ],
 "metadata": {
  "kernelspec": {
   "display_name": "Python 3",
   "language": "python",
   "name": "python3"
  },
  "language_info": {
   "codemirror_mode": {
    "name": "ipython",
    "version": 2
   },
   "file_extension": ".py",
   "mimetype": "text/x-python",
   "name": "python",
   "nbconvert_exporter": "python",
   "pygments_lexer": "ipython2",
   "version": "2.7.6"
  }
 },
 "nbformat": 4,
 "nbformat_minor": 5
}
